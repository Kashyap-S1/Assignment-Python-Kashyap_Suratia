{
 "cells": [
  {
   "cell_type": "markdown",
   "id": "499743cc",
   "metadata": {},
   "source": [
    "# Import the required Libraries and data"
   ]
  },
  {
   "cell_type": "code",
   "execution_count": 1,
   "id": "ec8a8aab",
   "metadata": {},
   "outputs": [],
   "source": [
    "import pandas as pd\n",
    "import os\n",
    "import csv\n",
    "import sys"
   ]
  },
  {
   "cell_type": "code",
   "execution_count": 2,
   "id": "b59e3aaf",
   "metadata": {},
   "outputs": [
    {
     "data": {
      "text/html": [
       "<div>\n",
       "<style scoped>\n",
       "    .dataframe tbody tr th:only-of-type {\n",
       "        vertical-align: middle;\n",
       "    }\n",
       "\n",
       "    .dataframe tbody tr th {\n",
       "        vertical-align: top;\n",
       "    }\n",
       "\n",
       "    .dataframe thead th {\n",
       "        text-align: right;\n",
       "    }\n",
       "</style>\n",
       "<table border=\"1\" class=\"dataframe\">\n",
       "  <thead>\n",
       "    <tr style=\"text-align: right;\">\n",
       "      <th></th>\n",
       "      <th>Date</th>\n",
       "      <th>Profit/Losses</th>\n",
       "    </tr>\n",
       "  </thead>\n",
       "  <tbody>\n",
       "    <tr>\n",
       "      <th>0</th>\n",
       "      <td>Jan-2010</td>\n",
       "      <td>867884</td>\n",
       "    </tr>\n",
       "    <tr>\n",
       "      <th>1</th>\n",
       "      <td>Feb-2010</td>\n",
       "      <td>984655</td>\n",
       "    </tr>\n",
       "    <tr>\n",
       "      <th>2</th>\n",
       "      <td>Mar-2010</td>\n",
       "      <td>322013</td>\n",
       "    </tr>\n",
       "    <tr>\n",
       "      <th>3</th>\n",
       "      <td>Apr-2010</td>\n",
       "      <td>-69417</td>\n",
       "    </tr>\n",
       "    <tr>\n",
       "      <th>4</th>\n",
       "      <td>May-2010</td>\n",
       "      <td>310503</td>\n",
       "    </tr>\n",
       "  </tbody>\n",
       "</table>\n",
       "</div>"
      ],
      "text/plain": [
       "       Date  Profit/Losses\n",
       "0  Jan-2010         867884\n",
       "1  Feb-2010         984655\n",
       "2  Mar-2010         322013\n",
       "3  Apr-2010         -69417\n",
       "4  May-2010         310503"
      ]
     },
     "execution_count": 2,
     "metadata": {},
     "output_type": "execute_result"
    }
   ],
   "source": [
    "budget_data = pd.read_csv(\"resources/budget_data.csv\")\n",
    "budget_data.head()"
   ]
  },
  {
   "cell_type": "markdown",
   "id": "be2acb71",
   "metadata": {},
   "source": [
    "# Data Analysis"
   ]
  },
  {
   "cell_type": "code",
   "execution_count": 3,
   "id": "645f5ee5",
   "metadata": {},
   "outputs": [
    {
     "data": {
      "text/plain": [
       "86"
      ]
     },
     "execution_count": 3,
     "metadata": {},
     "output_type": "execute_result"
    }
   ],
   "source": [
    "# Get the total number of months \n",
    "total_months = budget_data['Date'].nunique()\n",
    "total_months"
   ]
  },
  {
   "cell_type": "code",
   "execution_count": 4,
   "id": "281b6746",
   "metadata": {},
   "outputs": [
    {
     "data": {
      "text/plain": [
       "38382578"
      ]
     },
     "execution_count": 4,
     "metadata": {},
     "output_type": "execute_result"
    }
   ],
   "source": [
    "# Total amount of Profit/Losses overthe entire period \n",
    "net_total_ProfitLosses = sum(budget_data[\"Profit/Losses\"])\n",
    "net_total_ProfitLosses"
   ]
  },
  {
   "cell_type": "code",
   "execution_count": 5,
   "id": "cadbe971",
   "metadata": {},
   "outputs": [
    {
     "data": {
      "text/plain": [
       "-2315.12"
      ]
     },
     "execution_count": 5,
     "metadata": {},
     "output_type": "execute_result"
    }
   ],
   "source": [
    "\"\"\"\n",
    "revenue change = every_item- previous_item\n",
    "append revenue_change to a profit change list\n",
    "calculate the average of the profit_change list\n",
    "\"\"\"\n",
    "\n",
    "reverse_counter = budget_data.shape[0] - 1 #helps us get every item and reverse\n",
    "profit_change = [] #stores all the changes in the revenue\n",
    "\n",
    "for item in range(len(budget_data)):\n",
    "    every_item = budget_data[\"Profit/Losses\"][reverse_counter]\n",
    "    try:\n",
    "        previous_item = budget_data[\"Profit/Losses\"][reverse_counter - 1]\n",
    "    except KeyError:\n",
    "        break\n",
    "    \n",
    "    revenue_change = every_item - previous_item\n",
    "    profit_change.append(revenue_change)\n",
    "    \n",
    "    reverse_counter-=1\n",
    "    \n",
    "#calculate the average of a list\n",
    "\n",
    "# reverse the profit_change list to create a list in correct order\n",
    "profitLoss_change = profit_change[::-1]\n",
    "average_revenue_change = round(sum(profitLoss_change)/len(profitLoss_change), 2)\n",
    "average_revenue_change"
   ]
  },
  {
   "cell_type": "code",
   "execution_count": 6,
   "id": "f44979e0",
   "metadata": {},
   "outputs": [
    {
     "data": {
      "text/plain": [
       "'Feb-2012'"
      ]
     },
     "execution_count": 6,
     "metadata": {},
     "output_type": "execute_result"
    }
   ],
   "source": [
    "# greatest increase in profit is max of the profit change list\n",
    "greatest_increase_in_profits = max(profitLoss_change)\n",
    "when_increased = profitLoss_change.index(greatest_increase_in_profits)\n",
    "date_increased = budget_data[\"Date\"][when_increased + 1]\n",
    "date_increased"
   ]
  },
  {
   "cell_type": "code",
   "execution_count": 7,
   "id": "f46270c8",
   "metadata": {},
   "outputs": [
    {
     "data": {
      "text/plain": [
       "1926159"
      ]
     },
     "execution_count": 7,
     "metadata": {},
     "output_type": "execute_result"
    }
   ],
   "source": [
    "greatest_increase_in_profits"
   ]
  },
  {
   "cell_type": "code",
   "execution_count": 8,
   "id": "ea4863bd",
   "metadata": {},
   "outputs": [
    {
     "data": {
      "text/plain": [
       "'Sep-2013'"
      ]
     },
     "execution_count": 8,
     "metadata": {},
     "output_type": "execute_result"
    }
   ],
   "source": [
    "# greatest decrease in profit is max of the profit change list\n",
    "greatest_decrease_in_profits = min(profitLoss_change)\n",
    "when_decreased = profitLoss_change.index(greatest_decrease_in_profits)\n",
    "date_decreased = budget_data[\"Date\"][when_decreased + 1]\n",
    "date_decreased"
   ]
  },
  {
   "cell_type": "code",
   "execution_count": 9,
   "id": "cc5410c2",
   "metadata": {},
   "outputs": [
    {
     "data": {
      "text/plain": [
       "-2196167"
      ]
     },
     "execution_count": 9,
     "metadata": {},
     "output_type": "execute_result"
    }
   ],
   "source": [
    "greatest_decrease_in_profits"
   ]
  },
  {
   "cell_type": "markdown",
   "id": "13e54c1a",
   "metadata": {},
   "source": [
    "# Results"
   ]
  },
  {
   "cell_type": "code",
   "execution_count": 10,
   "id": "92067779",
   "metadata": {},
   "outputs": [],
   "source": [
    "PyBank_results = f\"\"\"\n",
    "Financial Analysis\n",
    "-----------------------------------------\n",
    "Total Months: {total_months}\n",
    "Total: ${net_total_ProfitLosses}\n",
    "Average Change: ${average_revenue_change}\n",
    "Greatest Increase in Profits: {date_increased} (${greatest_increase_in_profits})\n",
    "Greatest Decrease in Profits: {date_decreased} (${greatest_decrease_in_profits})\n",
    "\"\"\""
   ]
  },
  {
   "cell_type": "code",
   "execution_count": 11,
   "id": "75f3ded2",
   "metadata": {},
   "outputs": [
    {
     "name": "stdout",
     "output_type": "stream",
     "text": [
      "\n",
      "Financial Analysis\n",
      "-----------------------------------------\n",
      "Total Months: 86\n",
      "Total: $38382578\n",
      "Greatest Increase in Profits: Feb-2012 ($1926159)\n",
      "Greatest Increase in Profits: Sep-2013 ($-2196167)\n",
      "\n"
     ]
    }
   ],
   "source": [
    "print(PyBank_results)"
   ]
  },
  {
   "cell_type": "code",
   "execution_count": 12,
   "id": "62f268c6",
   "metadata": {},
   "outputs": [],
   "source": [
    "\n",
    "with open('PyBank results.txt', 'w') as f:\n",
    "    f.write(PyBank_results)"
   ]
  },
  {
   "cell_type": "code",
   "execution_count": null,
   "id": "41ed50b2",
   "metadata": {},
   "outputs": [],
   "source": []
  }
 ],
 "metadata": {
  "kernelspec": {
   "display_name": "Python 3 (ipykernel)",
   "language": "python",
   "name": "python3"
  },
  "language_info": {
   "codemirror_mode": {
    "name": "ipython",
    "version": 3
   },
   "file_extension": ".py",
   "mimetype": "text/x-python",
   "name": "python",
   "nbconvert_exporter": "python",
   "pygments_lexer": "ipython3",
   "version": "3.9.7"
  }
 },
 "nbformat": 4,
 "nbformat_minor": 5
}
